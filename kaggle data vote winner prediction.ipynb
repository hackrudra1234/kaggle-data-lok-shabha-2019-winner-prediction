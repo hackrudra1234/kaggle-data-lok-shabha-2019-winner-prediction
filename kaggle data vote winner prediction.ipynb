{
 "cells": [
  {
   "cell_type": "code",
   "execution_count": 4,
   "metadata": {},
   "outputs": [],
   "source": [
    "import numpy as np\n",
    "import pandas as pd\n",
    "import matplotlib.pyplot as plt\n",
    "import seaborn as sns"
   ]
  },
  {
   "cell_type": "code",
   "execution_count": 5,
   "metadata": {},
   "outputs": [
    {
     "data": {
      "text/html": [
       "<div>\n",
       "<style scoped>\n",
       "    .dataframe tbody tr th:only-of-type {\n",
       "        vertical-align: middle;\n",
       "    }\n",
       "\n",
       "    .dataframe tbody tr th {\n",
       "        vertical-align: top;\n",
       "    }\n",
       "\n",
       "    .dataframe thead th {\n",
       "        text-align: right;\n",
       "    }\n",
       "</style>\n",
       "<table border=\"1\" class=\"dataframe\">\n",
       "  <thead>\n",
       "    <tr style=\"text-align: right;\">\n",
       "      <th></th>\n",
       "      <th>STATE</th>\n",
       "      <th>CONSTITUENCY</th>\n",
       "      <th>NAME</th>\n",
       "      <th>WINNER</th>\n",
       "      <th>PARTY</th>\n",
       "      <th>SYMBOL</th>\n",
       "      <th>GENDER</th>\n",
       "      <th>CRIMINAL\\nCASES</th>\n",
       "      <th>AGE</th>\n",
       "      <th>CATEGORY</th>\n",
       "      <th>EDUCATION</th>\n",
       "      <th>ASSETS</th>\n",
       "      <th>LIABILITIES</th>\n",
       "      <th>GENERAL\\nVOTES</th>\n",
       "      <th>POSTAL\\nVOTES</th>\n",
       "      <th>TOTAL\\nVOTES</th>\n",
       "      <th>OVER TOTAL ELECTORS \\nIN CONSTITUENCY</th>\n",
       "      <th>OVER TOTAL VOTES POLLED \\nIN CONSTITUENCY</th>\n",
       "      <th>TOTAL ELECTORS</th>\n",
       "    </tr>\n",
       "  </thead>\n",
       "  <tbody>\n",
       "    <tr>\n",
       "      <td>0</td>\n",
       "      <td>Telangana</td>\n",
       "      <td>ADILABAD</td>\n",
       "      <td>SOYAM BAPU RAO</td>\n",
       "      <td>1</td>\n",
       "      <td>BJP</td>\n",
       "      <td>Lotus</td>\n",
       "      <td>MALE</td>\n",
       "      <td>52</td>\n",
       "      <td>52.0</td>\n",
       "      <td>ST</td>\n",
       "      <td>12th Pass</td>\n",
       "      <td>Rs 30,99,414\\n ~ 30 Lacs+</td>\n",
       "      <td>Rs 2,31,450\\n ~ 2 Lacs+</td>\n",
       "      <td>376892</td>\n",
       "      <td>482</td>\n",
       "      <td>377374</td>\n",
       "      <td>25.330684</td>\n",
       "      <td>35.468248</td>\n",
       "      <td>1489790</td>\n",
       "    </tr>\n",
       "    <tr>\n",
       "      <td>1</td>\n",
       "      <td>Telangana</td>\n",
       "      <td>ADILABAD</td>\n",
       "      <td>Godam Nagesh</td>\n",
       "      <td>0</td>\n",
       "      <td>TRS</td>\n",
       "      <td>Car</td>\n",
       "      <td>MALE</td>\n",
       "      <td>0</td>\n",
       "      <td>54.0</td>\n",
       "      <td>ST</td>\n",
       "      <td>Post Graduate</td>\n",
       "      <td>Rs 1,84,77,888\\n ~ 1 Crore+</td>\n",
       "      <td>Rs 8,47,000\\n ~ 8 Lacs+</td>\n",
       "      <td>318665</td>\n",
       "      <td>149</td>\n",
       "      <td>318814</td>\n",
       "      <td>21.399929</td>\n",
       "      <td>29.964370</td>\n",
       "      <td>1489790</td>\n",
       "    </tr>\n",
       "    <tr>\n",
       "      <td>2</td>\n",
       "      <td>Telangana</td>\n",
       "      <td>ADILABAD</td>\n",
       "      <td>RATHOD RAMESH</td>\n",
       "      <td>0</td>\n",
       "      <td>INC</td>\n",
       "      <td>Hand</td>\n",
       "      <td>MALE</td>\n",
       "      <td>3</td>\n",
       "      <td>52.0</td>\n",
       "      <td>ST</td>\n",
       "      <td>12th Pass</td>\n",
       "      <td>Rs 3,64,91,000\\n ~ 3 Crore+</td>\n",
       "      <td>Rs 1,53,00,000\\n ~ 1 Crore+</td>\n",
       "      <td>314057</td>\n",
       "      <td>181</td>\n",
       "      <td>314238</td>\n",
       "      <td>21.092771</td>\n",
       "      <td>29.534285</td>\n",
       "      <td>1489790</td>\n",
       "    </tr>\n",
       "    <tr>\n",
       "      <td>3</td>\n",
       "      <td>Telangana</td>\n",
       "      <td>ADILABAD</td>\n",
       "      <td>NOTA</td>\n",
       "      <td>0</td>\n",
       "      <td>NOTA</td>\n",
       "      <td>NaN</td>\n",
       "      <td>NaN</td>\n",
       "      <td>NaN</td>\n",
       "      <td>NaN</td>\n",
       "      <td>NaN</td>\n",
       "      <td>NaN</td>\n",
       "      <td>NaN</td>\n",
       "      <td>NaN</td>\n",
       "      <td>13030</td>\n",
       "      <td>6</td>\n",
       "      <td>13036</td>\n",
       "      <td>0.875023</td>\n",
       "      <td>1.225214</td>\n",
       "      <td>1489790</td>\n",
       "    </tr>\n",
       "    <tr>\n",
       "      <td>4</td>\n",
       "      <td>Uttar Pradesh</td>\n",
       "      <td>AGRA</td>\n",
       "      <td>Satyapal Singh Baghel</td>\n",
       "      <td>1</td>\n",
       "      <td>BJP</td>\n",
       "      <td>Lotus</td>\n",
       "      <td>MALE</td>\n",
       "      <td>5</td>\n",
       "      <td>58.0</td>\n",
       "      <td>SC</td>\n",
       "      <td>Doctorate</td>\n",
       "      <td>Rs 7,42,74,036\\n ~ 7 Crore+</td>\n",
       "      <td>Rs 86,06,522\\n ~ 86 Lacs+</td>\n",
       "      <td>644459</td>\n",
       "      <td>2416</td>\n",
       "      <td>646875</td>\n",
       "      <td>33.383823</td>\n",
       "      <td>56.464615</td>\n",
       "      <td>1937690</td>\n",
       "    </tr>\n",
       "  </tbody>\n",
       "</table>\n",
       "</div>"
      ],
      "text/plain": [
       "           STATE CONSTITUENCY                   NAME  WINNER PARTY SYMBOL  \\\n",
       "0      Telangana     ADILABAD         SOYAM BAPU RAO       1   BJP  Lotus   \n",
       "1      Telangana     ADILABAD           Godam Nagesh       0   TRS    Car   \n",
       "2      Telangana     ADILABAD          RATHOD RAMESH       0   INC   Hand   \n",
       "3      Telangana     ADILABAD                   NOTA       0  NOTA    NaN   \n",
       "4  Uttar Pradesh         AGRA  Satyapal Singh Baghel       1   BJP  Lotus   \n",
       "\n",
       "  GENDER CRIMINAL\\nCASES   AGE CATEGORY      EDUCATION  \\\n",
       "0   MALE              52  52.0       ST      12th Pass   \n",
       "1   MALE               0  54.0       ST  Post Graduate   \n",
       "2   MALE               3  52.0       ST      12th Pass   \n",
       "3    NaN             NaN   NaN      NaN            NaN   \n",
       "4   MALE               5  58.0       SC      Doctorate   \n",
       "\n",
       "                        ASSETS                  LIABILITIES  GENERAL\\nVOTES  \\\n",
       "0    Rs 30,99,414\\n ~ 30 Lacs+      Rs 2,31,450\\n ~ 2 Lacs+          376892   \n",
       "1  Rs 1,84,77,888\\n ~ 1 Crore+      Rs 8,47,000\\n ~ 8 Lacs+          318665   \n",
       "2  Rs 3,64,91,000\\n ~ 3 Crore+  Rs 1,53,00,000\\n ~ 1 Crore+          314057   \n",
       "3                          NaN                          NaN           13030   \n",
       "4  Rs 7,42,74,036\\n ~ 7 Crore+    Rs 86,06,522\\n ~ 86 Lacs+          644459   \n",
       "\n",
       "   POSTAL\\nVOTES  TOTAL\\nVOTES  OVER TOTAL ELECTORS \\nIN CONSTITUENCY  \\\n",
       "0            482        377374                              25.330684   \n",
       "1            149        318814                              21.399929   \n",
       "2            181        314238                              21.092771   \n",
       "3              6         13036                               0.875023   \n",
       "4           2416        646875                              33.383823   \n",
       "\n",
       "   OVER TOTAL VOTES POLLED \\nIN CONSTITUENCY  TOTAL ELECTORS  \n",
       "0                                  35.468248         1489790  \n",
       "1                                  29.964370         1489790  \n",
       "2                                  29.534285         1489790  \n",
       "3                                   1.225214         1489790  \n",
       "4                                  56.464615         1937690  "
      ]
     },
     "execution_count": 5,
     "metadata": {},
     "output_type": "execute_result"
    }
   ],
   "source": [
    "data = pd.read_csv('LS_2.0.csv')\n",
    "data.head()"
   ]
  },
  {
   "cell_type": "code",
   "execution_count": 6,
   "metadata": {},
   "outputs": [
    {
     "data": {
      "text/plain": [
       "(2263, 19)"
      ]
     },
     "execution_count": 6,
     "metadata": {},
     "output_type": "execute_result"
    }
   ],
   "source": [
    "data.shape"
   ]
  },
  {
   "cell_type": "code",
   "execution_count": 7,
   "metadata": {},
   "outputs": [
    {
     "name": "stdout",
     "output_type": "stream",
     "text": [
      "<class 'pandas.core.frame.DataFrame'>\n",
      "RangeIndex: 2263 entries, 0 to 2262\n",
      "Data columns (total 19 columns):\n",
      "STATE                                       2263 non-null object\n",
      "CONSTITUENCY                                2263 non-null object\n",
      "NAME                                        2263 non-null object\n",
      "WINNER                                      2263 non-null int64\n",
      "PARTY                                       2263 non-null object\n",
      "SYMBOL                                      2018 non-null object\n",
      "GENDER                                      2018 non-null object\n",
      "CRIMINAL\n",
      "CASES                              2018 non-null object\n",
      "AGE                                         2018 non-null float64\n",
      "CATEGORY                                    2018 non-null object\n",
      "EDUCATION                                   2018 non-null object\n",
      "ASSETS                                      2018 non-null object\n",
      "LIABILITIES                                 2018 non-null object\n",
      "GENERAL\n",
      "VOTES                               2263 non-null int64\n",
      "POSTAL\n",
      "VOTES                                2263 non-null int64\n",
      "TOTAL\n",
      "VOTES                                 2263 non-null int64\n",
      "OVER TOTAL ELECTORS \n",
      "IN CONSTITUENCY        2263 non-null float64\n",
      "OVER TOTAL VOTES POLLED \n",
      "IN CONSTITUENCY    2263 non-null float64\n",
      "TOTAL ELECTORS                              2263 non-null int64\n",
      "dtypes: float64(3), int64(5), object(11)\n",
      "memory usage: 336.0+ KB\n"
     ]
    }
   ],
   "source": [
    "data.info()"
   ]
  },
  {
   "cell_type": "code",
   "execution_count": 8,
   "metadata": {},
   "outputs": [
    {
     "data": {
      "text/plain": [
       "STATE                                          0\n",
       "CONSTITUENCY                                   0\n",
       "NAME                                           0\n",
       "WINNER                                         0\n",
       "PARTY                                          0\n",
       "SYMBOL                                       245\n",
       "GENDER                                       245\n",
       "CRIMINAL\\nCASES                              245\n",
       "AGE                                          245\n",
       "CATEGORY                                     245\n",
       "EDUCATION                                    245\n",
       "ASSETS                                       245\n",
       "LIABILITIES                                  245\n",
       "GENERAL\\nVOTES                                 0\n",
       "POSTAL\\nVOTES                                  0\n",
       "TOTAL\\nVOTES                                   0\n",
       "OVER TOTAL ELECTORS \\nIN CONSTITUENCY          0\n",
       "OVER TOTAL VOTES POLLED \\nIN CONSTITUENCY      0\n",
       "TOTAL ELECTORS                                 0\n",
       "dtype: int64"
      ]
     },
     "execution_count": 8,
     "metadata": {},
     "output_type": "execute_result"
    }
   ],
   "source": [
    "data.isnull().sum()"
   ]
  },
  {
   "cell_type": "code",
   "execution_count": 9,
   "metadata": {},
   "outputs": [],
   "source": [
    "data = data.dropna()"
   ]
  },
  {
   "cell_type": "code",
   "execution_count": 10,
   "metadata": {},
   "outputs": [
    {
     "data": {
      "text/plain": [
       "STATE                                        0\n",
       "CONSTITUENCY                                 0\n",
       "NAME                                         0\n",
       "WINNER                                       0\n",
       "PARTY                                        0\n",
       "SYMBOL                                       0\n",
       "GENDER                                       0\n",
       "CRIMINAL\\nCASES                              0\n",
       "AGE                                          0\n",
       "CATEGORY                                     0\n",
       "EDUCATION                                    0\n",
       "ASSETS                                       0\n",
       "LIABILITIES                                  0\n",
       "GENERAL\\nVOTES                               0\n",
       "POSTAL\\nVOTES                                0\n",
       "TOTAL\\nVOTES                                 0\n",
       "OVER TOTAL ELECTORS \\nIN CONSTITUENCY        0\n",
       "OVER TOTAL VOTES POLLED \\nIN CONSTITUENCY    0\n",
       "TOTAL ELECTORS                               0\n",
       "dtype: int64"
      ]
     },
     "execution_count": 10,
     "metadata": {},
     "output_type": "execute_result"
    }
   ],
   "source": [
    "data.isnull().sum()"
   ]
  },
  {
   "cell_type": "code",
   "execution_count": 11,
   "metadata": {},
   "outputs": [],
   "source": [
    "data['ASSETS']= data['ASSETS'].str.split('\\n').str[0]\n",
    "data['ASSETS'] = data['ASSETS'].str.split('Rs').str[1]\n",
    "data['LIABILITIES']= data['LIABILITIES'].str.split('\\n').str[0]\n",
    "data['LIABILITIES']= data['LIABILITIES'].str.split('Rs').str[1]\n"
   ]
  },
  {
   "cell_type": "code",
   "execution_count": 12,
   "metadata": {},
   "outputs": [],
   "source": [
    "data['ASSETS']= data['ASSETS'].str.replace(',','')\n",
    "data['LIABILITIES']= data['LIABILITIES'].str.replace(',','')"
   ]
  },
  {
   "cell_type": "code",
   "execution_count": 13,
   "metadata": {},
   "outputs": [],
   "source": [
    "data = data.dropna()"
   ]
  },
  {
   "cell_type": "code",
   "execution_count": 14,
   "metadata": {},
   "outputs": [
    {
     "data": {
      "text/html": [
       "<div>\n",
       "<style scoped>\n",
       "    .dataframe tbody tr th:only-of-type {\n",
       "        vertical-align: middle;\n",
       "    }\n",
       "\n",
       "    .dataframe tbody tr th {\n",
       "        vertical-align: top;\n",
       "    }\n",
       "\n",
       "    .dataframe thead th {\n",
       "        text-align: right;\n",
       "    }\n",
       "</style>\n",
       "<table border=\"1\" class=\"dataframe\">\n",
       "  <thead>\n",
       "    <tr style=\"text-align: right;\">\n",
       "      <th></th>\n",
       "      <th>WINNER</th>\n",
       "      <th>AGE</th>\n",
       "      <th>GENERAL\\nVOTES</th>\n",
       "      <th>POSTAL\\nVOTES</th>\n",
       "      <th>TOTAL\\nVOTES</th>\n",
       "      <th>OVER TOTAL ELECTORS \\nIN CONSTITUENCY</th>\n",
       "      <th>OVER TOTAL VOTES POLLED \\nIN CONSTITUENCY</th>\n",
       "      <th>TOTAL ELECTORS</th>\n",
       "    </tr>\n",
       "  </thead>\n",
       "  <tbody>\n",
       "    <tr>\n",
       "      <td>count</td>\n",
       "      <td>1991.000000</td>\n",
       "      <td>1991.000000</td>\n",
       "      <td>1.991000e+03</td>\n",
       "      <td>1991.000000</td>\n",
       "      <td>1.991000e+03</td>\n",
       "      <td>1991.000000</td>\n",
       "      <td>1991.000000</td>\n",
       "      <td>1.991000e+03</td>\n",
       "    </tr>\n",
       "    <tr>\n",
       "      <td>mean</td>\n",
       "      <td>0.270718</td>\n",
       "      <td>52.357107</td>\n",
       "      <td>2.939856e+05</td>\n",
       "      <td>1114.790558</td>\n",
       "      <td>2.951004e+05</td>\n",
       "      <td>17.760497</td>\n",
       "      <td>26.047354</td>\n",
       "      <td>1.661313e+06</td>\n",
       "    </tr>\n",
       "    <tr>\n",
       "      <td>std</td>\n",
       "      <td>0.444442</td>\n",
       "      <td>11.864840</td>\n",
       "      <td>2.549466e+05</td>\n",
       "      <td>1668.321438</td>\n",
       "      <td>2.559389e+05</td>\n",
       "      <td>14.903515</td>\n",
       "      <td>21.423306</td>\n",
       "      <td>3.171484e+05</td>\n",
       "    </tr>\n",
       "    <tr>\n",
       "      <td>min</td>\n",
       "      <td>0.000000</td>\n",
       "      <td>25.000000</td>\n",
       "      <td>1.339000e+03</td>\n",
       "      <td>0.000000</td>\n",
       "      <td>1.342000e+03</td>\n",
       "      <td>0.097941</td>\n",
       "      <td>1.000039</td>\n",
       "      <td>5.518900e+04</td>\n",
       "    </tr>\n",
       "    <tr>\n",
       "      <td>25%</td>\n",
       "      <td>0.000000</td>\n",
       "      <td>44.000000</td>\n",
       "      <td>3.079650e+04</td>\n",
       "      <td>98.000000</td>\n",
       "      <td>3.088400e+04</td>\n",
       "      <td>1.956495</td>\n",
       "      <td>2.881582</td>\n",
       "      <td>1.530964e+06</td>\n",
       "    </tr>\n",
       "    <tr>\n",
       "      <td>50%</td>\n",
       "      <td>0.000000</td>\n",
       "      <td>53.000000</td>\n",
       "      <td>2.946620e+05</td>\n",
       "      <td>471.000000</td>\n",
       "      <td>2.947660e+05</td>\n",
       "      <td>18.410761</td>\n",
       "      <td>28.209323</td>\n",
       "      <td>1.683325e+06</td>\n",
       "    </tr>\n",
       "    <tr>\n",
       "      <td>75%</td>\n",
       "      <td>1.000000</td>\n",
       "      <td>61.000000</td>\n",
       "      <td>5.079785e+05</td>\n",
       "      <td>1558.000000</td>\n",
       "      <td>5.099180e+05</td>\n",
       "      <td>30.830137</td>\n",
       "      <td>44.546059</td>\n",
       "      <td>1.823664e+06</td>\n",
       "    </tr>\n",
       "    <tr>\n",
       "      <td>max</td>\n",
       "      <td>1.000000</td>\n",
       "      <td>86.000000</td>\n",
       "      <td>1.066824e+06</td>\n",
       "      <td>19367.000000</td>\n",
       "      <td>1.068569e+06</td>\n",
       "      <td>51.951012</td>\n",
       "      <td>74.411856</td>\n",
       "      <td>3.150313e+06</td>\n",
       "    </tr>\n",
       "  </tbody>\n",
       "</table>\n",
       "</div>"
      ],
      "text/plain": [
       "            WINNER          AGE  GENERAL\\nVOTES  POSTAL\\nVOTES  TOTAL\\nVOTES  \\\n",
       "count  1991.000000  1991.000000    1.991000e+03    1991.000000  1.991000e+03   \n",
       "mean      0.270718    52.357107    2.939856e+05    1114.790558  2.951004e+05   \n",
       "std       0.444442    11.864840    2.549466e+05    1668.321438  2.559389e+05   \n",
       "min       0.000000    25.000000    1.339000e+03       0.000000  1.342000e+03   \n",
       "25%       0.000000    44.000000    3.079650e+04      98.000000  3.088400e+04   \n",
       "50%       0.000000    53.000000    2.946620e+05     471.000000  2.947660e+05   \n",
       "75%       1.000000    61.000000    5.079785e+05    1558.000000  5.099180e+05   \n",
       "max       1.000000    86.000000    1.066824e+06   19367.000000  1.068569e+06   \n",
       "\n",
       "       OVER TOTAL ELECTORS \\nIN CONSTITUENCY  \\\n",
       "count                            1991.000000   \n",
       "mean                               17.760497   \n",
       "std                                14.903515   \n",
       "min                                 0.097941   \n",
       "25%                                 1.956495   \n",
       "50%                                18.410761   \n",
       "75%                                30.830137   \n",
       "max                                51.951012   \n",
       "\n",
       "       OVER TOTAL VOTES POLLED \\nIN CONSTITUENCY  TOTAL ELECTORS  \n",
       "count                                1991.000000    1.991000e+03  \n",
       "mean                                   26.047354    1.661313e+06  \n",
       "std                                    21.423306    3.171484e+05  \n",
       "min                                     1.000039    5.518900e+04  \n",
       "25%                                     2.881582    1.530964e+06  \n",
       "50%                                    28.209323    1.683325e+06  \n",
       "75%                                    44.546059    1.823664e+06  \n",
       "max                                    74.411856    3.150313e+06  "
      ]
     },
     "execution_count": 14,
     "metadata": {},
     "output_type": "execute_result"
    }
   ],
   "source": [
    "data.describe()"
   ]
  },
  {
   "cell_type": "code",
   "execution_count": 15,
   "metadata": {},
   "outputs": [
    {
     "data": {
      "text/plain": [
       "Uttar Pradesh                247\n",
       "Bihar                        212\n",
       "Tamil Nadu                   182\n",
       "Maharashtra                  175\n",
       "West Bengal                  173\n",
       "Andhra Pradesh               100\n",
       "Madhya Pradesh                92\n",
       "Rajasthan                     74\n",
       "Odisha                        73\n",
       "Karnataka                     72\n",
       "Telangana                     72\n",
       "Gujarat                       68\n",
       "Jharkhand                     65\n",
       "Kerala                        61\n",
       "Punjab                        53\n",
       "Assam                         43\n",
       "Haryana                       41\n",
       "Chhattisgarh                  38\n",
       "Jammu & Kashmir               28\n",
       "NCT OF Delhi                  24\n",
       "Uttarakhand                   13\n",
       "Manipur                       10\n",
       "Arunachal Pradesh             10\n",
       "Himachal Pradesh               9\n",
       "Tripura                        8\n",
       "Dadra & Nagar Haveli           6\n",
       "Goa                            6\n",
       "Meghalaya                      6\n",
       "Andaman & Nicobar Islands      5\n",
       "Mizoram                        5\n",
       "Sikkim                         4\n",
       "Chandigarh                     4\n",
       "Puducherry                     3\n",
       "Daman & Diu                    3\n",
       "Lakshadweep                    3\n",
       "Nagaland                       3\n",
       "Name: STATE, dtype: int64"
      ]
     },
     "execution_count": 15,
     "metadata": {},
     "output_type": "execute_result"
    }
   ],
   "source": [
    "data.STATE.value_counts()"
   ]
  },
  {
   "cell_type": "code",
   "execution_count": 16,
   "metadata": {},
   "outputs": [
    {
     "data": {
      "text/plain": [
       "AURANGABAD    13\n",
       "GAYA (SC)     11\n",
       "UJIARPUR       8\n",
       "SUPAUL         8\n",
       "CHATRA         8\n",
       "              ..\n",
       "KANNAUJ        2\n",
       "JAMMU          2\n",
       "DIBRUGARH      2\n",
       "KOPPAL         2\n",
       "DEORIA         1\n",
       "Name: CONSTITUENCY, Length: 539, dtype: int64"
      ]
     },
     "execution_count": 16,
     "metadata": {},
     "output_type": "execute_result"
    }
   ],
   "source": [
    "data.CONSTITUENCY.value_counts()"
   ]
  },
  {
   "cell_type": "code",
   "execution_count": 17,
   "metadata": {},
   "outputs": [
    {
     "data": {
      "text/plain": [
       "<matplotlib.axes._subplots.AxesSubplot at 0x26594cd2548>"
      ]
     },
     "execution_count": 17,
     "metadata": {},
     "output_type": "execute_result"
    },
    {
     "data": {
      "image/png": "[encoded data removed]",
      "text/plain": [
       "<Figure size 432x288 with 1 Axes>"
      ]
     },
     "metadata": {
      "needs_background": "light"
     },
     "output_type": "display_data"
    }
   ],
   "source": [
    "data.PARTY.value_counts()[:10].plot.bar()"
   ]
  },
  {
   "cell_type": "code",
   "execution_count": 18,
   "metadata": {},
   "outputs": [
    {
     "data": {
      "text/plain": [
       "<matplotlib.axes._subplots.AxesSubplot at 0x26596b0bf48>"
      ]
     },
     "execution_count": 18,
     "metadata": {},
     "output_type": "execute_result"
    },
    {
     "data": {
      "image/png": "[encoded data removed]",
      "text/plain": [
       "<Figure size 432x288 with 1 Axes>"
      ]
     },
     "metadata": {
      "needs_background": "light"
     },
     "output_type": "display_data"
    }
   ],
   "source": [
    "data.EDUCATION.value_counts().plot.bar()"
   ]
  },
  {
   "cell_type": "code",
   "execution_count": 19,
   "metadata": {},
   "outputs": [
    {
     "data": {
      "text/plain": [
       "<matplotlib.axes._subplots.AxesSubplot at 0x26596b800c8>"
      ]
     },
     "execution_count": 19,
     "metadata": {},
     "output_type": "execute_result"
    },
    {
     "data": {
      "image/png": "[encoded data removed]",
      "text/plain": [
       "<Figure size 432x288 with 1 Axes>"
      ]
     },
     "metadata": {
      "needs_background": "light"
     },
     "output_type": "display_data"
    }
   ],
   "source": [
    "data.GENDER.value_counts().plot.bar()"
   ]
  },
  {
   "cell_type": "code",
   "execution_count": 20,
   "metadata": {},
   "outputs": [
    {
     "data": {
      "text/plain": [
       "<matplotlib.axes._subplots.AxesSubplot at 0x265970200c8>"
      ]
     },
     "execution_count": 20,
     "metadata": {},
     "output_type": "execute_result"
    },
    {
     "data": {
      "image/png": "[encoded data removed]",
      "text/plain": [
       "<Figure size 432x288 with 1 Axes>"
      ]
     },
     "metadata": {
      "needs_background": "light"
     },
     "output_type": "display_data"
    }
   ],
   "source": [
    "data.WINNER.value_counts(normalize = True).plot.bar()"
   ]
  },
  {
   "cell_type": "code",
   "execution_count": 21,
   "metadata": {},
   "outputs": [
    {
     "data": {
      "text/plain": [
       "<matplotlib.axes._subplots.AxesSubplot at 0x26596b98b88>"
      ]
     },
     "execution_count": 21,
     "metadata": {},
     "output_type": "execute_result"
    },
    {
     "data": {
      "image/png": "[encoded data removed]",
      "text/plain": [
       "<Figure size 864x360 with 1 Axes>"
      ]
     },
     "metadata": {
      "needs_background": "light"
     },
     "output_type": "display_data"
    }
   ],
   "source": [
    "plt.figure(figsize = (12,5))\n",
    "data.AGE.value_counts().plot.bar()"
   ]
  },
  {
   "cell_type": "code",
   "execution_count": 22,
   "metadata": {},
   "outputs": [
    {
     "data": {
      "text/plain": [
       "<matplotlib.axes._subplots.AxesSubplot at 0x265973c5988>"
      ]
     },
     "execution_count": 22,
     "metadata": {},
     "output_type": "execute_result"
    },
    {
     "data": {
      "image/png": "[encoded data removed]",
      "text/plain": [
       "<Figure size 432x288 with 1 Axes>"
      ]
     },
     "metadata": {
      "needs_background": "light"
     },
     "output_type": "display_data"
    }
   ],
   "source": [
    "data.CATEGORY.value_counts().plot.bar()"
   ]
  },
  {
   "cell_type": "code",
   "execution_count": 23,
   "metadata": {},
   "outputs": [],
   "source": [
    "data['ASSETS'] = data['ASSETS'].astype('int64')\n",
    "data['LIABILITIES'] = data['LIABILITIES'].astype('int64')\n"
   ]
  },
  {
   "cell_type": "code",
   "execution_count": 24,
   "metadata": {},
   "outputs": [
    {
     "data": {
      "text/plain": [
       "<matplotlib.axes._subplots.AxesSubplot at 0x26597291a08>"
      ]
     },
     "execution_count": 24,
     "metadata": {},
     "output_type": "execute_result"
    },
    {
     "data": {
      "image/png": "[encoded data removed]",
      "text/plain": [
       "<Figure size 1152x360 with 1 Axes>"
      ]
     },
     "metadata": {
      "needs_background": "light"
     },
     "output_type": "display_data"
    }
   ],
   "source": [
    "pd.crosstab(data['SYMBOL'],data['WINNER']).plot(figsize = (16,5))"
   ]
  },
  {
   "cell_type": "code",
   "execution_count": 25,
   "metadata": {},
   "outputs": [
    {
     "data": {
      "text/plain": [
       "<matplotlib.axes._subplots.AxesSubplot at 0x26596b51ac8>"
      ]
     },
     "execution_count": 25,
     "metadata": {},
     "output_type": "execute_result"
    },
    {
     "data": {
      "image/png": "[encoded data removed]",
      "text/plain": [
       "<Figure size 432x288 with 1 Axes>"
      ]
     },
     "metadata": {
      "needs_background": "light"
     },
     "output_type": "display_data"
    }
   ],
   "source": [
    "sns.countplot('CRIMINAL\\nCASES',hue = 'WINNER',data = data)"
   ]
  },
  {
   "cell_type": "code",
   "execution_count": 26,
   "metadata": {},
   "outputs": [
    {
     "data": {
      "text/plain": [
       "<matplotlib.axes._subplots.AxesSubplot at 0x2659744fc88>"
      ]
     },
     "execution_count": 26,
     "metadata": {},
     "output_type": "execute_result"
    },
    {
     "data": {
      "image/png": "[encoded data removed]",
      "text/plain": [
       "<Figure size 1152x360 with 1 Axes>"
      ]
     },
     "metadata": {
      "needs_background": "light"
     },
     "output_type": "display_data"
    }
   ],
   "source": [
    "plt.figure(figsize = (16,5))\n",
    "sns.countplot('EDUCATION',hue = 'WINNER',data = data)"
   ]
  },
  {
   "cell_type": "code",
   "execution_count": 27,
   "metadata": {},
   "outputs": [
    {
     "data": {
      "text/plain": [
       "<matplotlib.axes._subplots.AxesSubplot at 0x2659754e408>"
      ]
     },
     "execution_count": 27,
     "metadata": {},
     "output_type": "execute_result"
    },
    {
     "data": {
      "image/png": "[encoded data removed]",
      "text/plain": [
       "<Figure size 432x288 with 1 Axes>"
      ]
     },
     "metadata": {
      "needs_background": "light"
     },
     "output_type": "display_data"
    }
   ],
   "source": [
    "sns.countplot('CATEGORY',hue = 'WINNER',data = data)"
   ]
  },
  {
   "cell_type": "code",
   "execution_count": 28,
   "metadata": {},
   "outputs": [],
   "source": [
    "from sklearn.preprocessing import LabelEncoder"
   ]
  },
  {
   "cell_type": "code",
   "execution_count": 29,
   "metadata": {},
   "outputs": [],
   "source": [
    "l = data.select_dtypes('object').columns\n",
    "lb = LabelEncoder()\n",
    "for i in l:\n",
    "    data[i] = lb.fit_transform(data[i])"
   ]
  },
  {
   "cell_type": "code",
   "execution_count": 30,
   "metadata": {},
   "outputs": [
    {
     "data": {
      "text/html": [
       "<div>\n",
       "<style scoped>\n",
       "    .dataframe tbody tr th:only-of-type {\n",
       "        vertical-align: middle;\n",
       "    }\n",
       "\n",
       "    .dataframe tbody tr th {\n",
       "        vertical-align: top;\n",
       "    }\n",
       "\n",
       "    .dataframe thead th {\n",
       "        text-align: right;\n",
       "    }\n",
       "</style>\n",
       "<table border=\"1\" class=\"dataframe\">\n",
       "  <thead>\n",
       "    <tr style=\"text-align: right;\">\n",
       "      <th></th>\n",
       "      <th>STATE</th>\n",
       "      <th>CONSTITUENCY</th>\n",
       "      <th>NAME</th>\n",
       "      <th>WINNER</th>\n",
       "      <th>PARTY</th>\n",
       "      <th>SYMBOL</th>\n",
       "      <th>GENDER</th>\n",
       "      <th>CRIMINAL\\nCASES</th>\n",
       "      <th>AGE</th>\n",
       "      <th>CATEGORY</th>\n",
       "      <th>EDUCATION</th>\n",
       "      <th>ASSETS</th>\n",
       "      <th>LIABILITIES</th>\n",
       "      <th>GENERAL\\nVOTES</th>\n",
       "      <th>POSTAL\\nVOTES</th>\n",
       "      <th>TOTAL\\nVOTES</th>\n",
       "      <th>OVER TOTAL ELECTORS \\nIN CONSTITUENCY</th>\n",
       "      <th>OVER TOTAL VOTES POLLED \\nIN CONSTITUENCY</th>\n",
       "      <th>TOTAL ELECTORS</th>\n",
       "    </tr>\n",
       "  </thead>\n",
       "  <tbody>\n",
       "    <tr>\n",
       "      <td>0</td>\n",
       "      <td>31</td>\n",
       "      <td>0</td>\n",
       "      <td>1692</td>\n",
       "      <td>1</td>\n",
       "      <td>26</td>\n",
       "      <td>80</td>\n",
       "      <td>1</td>\n",
       "      <td>23</td>\n",
       "      <td>52.0</td>\n",
       "      <td>2</td>\n",
       "      <td>1</td>\n",
       "      <td>3099414</td>\n",
       "      <td>231450</td>\n",
       "      <td>376892</td>\n",
       "      <td>482</td>\n",
       "      <td>377374</td>\n",
       "      <td>25.330684</td>\n",
       "      <td>35.468248</td>\n",
       "      <td>1489790</td>\n",
       "    </tr>\n",
       "    <tr>\n",
       "      <td>1</td>\n",
       "      <td>31</td>\n",
       "      <td>0</td>\n",
       "      <td>692</td>\n",
       "      <td>0</td>\n",
       "      <td>118</td>\n",
       "      <td>32</td>\n",
       "      <td>1</td>\n",
       "      <td>0</td>\n",
       "      <td>54.0</td>\n",
       "      <td>2</td>\n",
       "      <td>10</td>\n",
       "      <td>18477888</td>\n",
       "      <td>847000</td>\n",
       "      <td>318665</td>\n",
       "      <td>149</td>\n",
       "      <td>318814</td>\n",
       "      <td>21.399929</td>\n",
       "      <td>29.964370</td>\n",
       "      <td>1489790</td>\n",
       "    </tr>\n",
       "    <tr>\n",
       "      <td>2</td>\n",
       "      <td>31</td>\n",
       "      <td>0</td>\n",
       "      <td>1481</td>\n",
       "      <td>0</td>\n",
       "      <td>46</td>\n",
       "      <td>66</td>\n",
       "      <td>1</td>\n",
       "      <td>16</td>\n",
       "      <td>52.0</td>\n",
       "      <td>2</td>\n",
       "      <td>1</td>\n",
       "      <td>36491000</td>\n",
       "      <td>15300000</td>\n",
       "      <td>314057</td>\n",
       "      <td>181</td>\n",
       "      <td>314238</td>\n",
       "      <td>21.092771</td>\n",
       "      <td>29.534285</td>\n",
       "      <td>1489790</td>\n",
       "    </tr>\n",
       "    <tr>\n",
       "      <td>4</td>\n",
       "      <td>33</td>\n",
       "      <td>1</td>\n",
       "      <td>1768</td>\n",
       "      <td>1</td>\n",
       "      <td>26</td>\n",
       "      <td>80</td>\n",
       "      <td>1</td>\n",
       "      <td>22</td>\n",
       "      <td>58.0</td>\n",
       "      <td>1</td>\n",
       "      <td>4</td>\n",
       "      <td>74274036</td>\n",
       "      <td>8606522</td>\n",
       "      <td>644459</td>\n",
       "      <td>2416</td>\n",
       "      <td>646875</td>\n",
       "      <td>33.383823</td>\n",
       "      <td>56.464615</td>\n",
       "      <td>1937690</td>\n",
       "    </tr>\n",
       "    <tr>\n",
       "      <td>5</td>\n",
       "      <td>33</td>\n",
       "      <td>1</td>\n",
       "      <td>1106</td>\n",
       "      <td>0</td>\n",
       "      <td>35</td>\n",
       "      <td>49</td>\n",
       "      <td>1</td>\n",
       "      <td>0</td>\n",
       "      <td>47.0</td>\n",
       "      <td>1</td>\n",
       "      <td>10</td>\n",
       "      <td>133784385</td>\n",
       "      <td>22251891</td>\n",
       "      <td>434199</td>\n",
       "      <td>1130</td>\n",
       "      <td>435329</td>\n",
       "      <td>22.466390</td>\n",
       "      <td>37.999125</td>\n",
       "      <td>1937690</td>\n",
       "    </tr>\n",
       "  </tbody>\n",
       "</table>\n",
       "</div>"
      ],
      "text/plain": [
       "   STATE  CONSTITUENCY  NAME  WINNER  PARTY  SYMBOL  GENDER  CRIMINAL\\nCASES  \\\n",
       "0     31             0  1692       1     26      80       1               23   \n",
       "1     31             0   692       0    118      32       1                0   \n",
       "2     31             0  1481       0     46      66       1               16   \n",
       "4     33             1  1768       1     26      80       1               22   \n",
       "5     33             1  1106       0     35      49       1                0   \n",
       "\n",
       "    AGE  CATEGORY  EDUCATION     ASSETS  LIABILITIES  GENERAL\\nVOTES  \\\n",
       "0  52.0         2          1    3099414       231450          376892   \n",
       "1  54.0         2         10   18477888       847000          318665   \n",
       "2  52.0         2          1   36491000     15300000          314057   \n",
       "4  58.0         1          4   74274036      8606522          644459   \n",
       "5  47.0         1         10  133784385     22251891          434199   \n",
       "\n",
       "   POSTAL\\nVOTES  TOTAL\\nVOTES  OVER TOTAL ELECTORS \\nIN CONSTITUENCY  \\\n",
       "0            482        377374                              25.330684   \n",
       "1            149        318814                              21.399929   \n",
       "2            181        314238                              21.092771   \n",
       "4           2416        646875                              33.383823   \n",
       "5           1130        435329                              22.466390   \n",
       "\n",
       "   OVER TOTAL VOTES POLLED \\nIN CONSTITUENCY  TOTAL ELECTORS  \n",
       "0                                  35.468248         1489790  \n",
       "1                                  29.964370         1489790  \n",
       "2                                  29.534285         1489790  \n",
       "4                                  56.464615         1937690  \n",
       "5                                  37.999125         1937690  "
      ]
     },
     "execution_count": 30,
     "metadata": {},
     "output_type": "execute_result"
    }
   ],
   "source": [
    "data.head()"
   ]
  },
  {
   "cell_type": "code",
   "execution_count": 31,
   "metadata": {},
   "outputs": [],
   "source": [
    "X = data.drop(['NAME','WINNER'],axis =1)\n",
    "y = data['WINNER']"
   ]
  },
  {
   "cell_type": "code",
   "execution_count": 32,
   "metadata": {},
   "outputs": [],
   "source": [
    "from sklearn.model_selection import train_test_split"
   ]
  },
  {
   "cell_type": "code",
   "execution_count": 33,
   "metadata": {},
   "outputs": [],
   "source": [
    "x_train,x_test,y_train,y_test = train_test_split(X,y,test_size = 0.3,random_state = 3)"
   ]
  },
  {
   "cell_type": "code",
   "execution_count": 34,
   "metadata": {},
   "outputs": [],
   "source": [
    "import xgboost\n",
    "from sklearn.tree import DecisionTreeClassifier\n",
    "from sklearn.ensemble import RandomForestClassifier\n",
    "from sklearn.neighbors import KNeighborsClassifier\n",
    "from xgboost import XGBClassifier\n",
    "from sklearn.model_selection import cross_val_score\n",
    "from sklearn.model_selection import KFold\n",
    "from sklearn import model_selection\n",
    "from sklearn.metrics import accuracy_score\n",
    "import lightgbm\n",
    "from lightgbm import LGBMClassifier"
   ]
  },
  {
   "cell_type": "code",
   "execution_count": 35,
   "metadata": {},
   "outputs": [],
   "source": [
    "models = []\n",
    "models.append(('DecisionTreeClassifier:',DecisionTreeClassifier()))\n",
    "models.append(('RandomForestClassifier:',RandomForestClassifier()))\n",
    "models.append(('KNeighborsClassifier:',KNeighborsClassifier()))\n",
    "models.append(('XGBOOST:',XGBClassifier()))\n",
    "model_prediction = []"
   ]
  },
  {
   "cell_type": "code",
   "execution_count": 36,
   "metadata": {},
   "outputs": [],
   "source": [
    "for i in models:\n",
    "    model = i[1]\n",
    "    model.fit(x_train,y_train)\n",
    "    predict = model.predict(x_test)\n",
    "    score = (accuracy_score(predict,y_test))\n",
    "    model_prediction.append([i[0],score])"
   ]
  },
  {
   "cell_type": "code",
   "execution_count": 37,
   "metadata": {},
   "outputs": [],
   "source": [
    "model_prediction = pd.DataFrame(model_prediction)\n",
    "model_prediction.columns = ['Model Name','score']"
   ]
  },
  {
   "cell_type": "code",
   "execution_count": 38,
   "metadata": {},
   "outputs": [
    {
     "data": {
      "text/html": [
       "<div>\n",
       "<style scoped>\n",
       "    .dataframe tbody tr th:only-of-type {\n",
       "        vertical-align: middle;\n",
       "    }\n",
       "\n",
       "    .dataframe tbody tr th {\n",
       "        vertical-align: top;\n",
       "    }\n",
       "\n",
       "    .dataframe thead th {\n",
       "        text-align: right;\n",
       "    }\n",
       "</style>\n",
       "<table border=\"1\" class=\"dataframe\">\n",
       "  <thead>\n",
       "    <tr style=\"text-align: right;\">\n",
       "      <th></th>\n",
       "      <th>Model Name</th>\n",
       "      <th>score</th>\n",
       "    </tr>\n",
       "  </thead>\n",
       "  <tbody>\n",
       "    <tr>\n",
       "      <td>0</td>\n",
       "      <td>DecisionTreeClassifier:</td>\n",
       "      <td>0.901338</td>\n",
       "    </tr>\n",
       "    <tr>\n",
       "      <td>1</td>\n",
       "      <td>RandomForestClassifier:</td>\n",
       "      <td>0.943144</td>\n",
       "    </tr>\n",
       "    <tr>\n",
       "      <td>2</td>\n",
       "      <td>KNeighborsClassifier:</td>\n",
       "      <td>0.702341</td>\n",
       "    </tr>\n",
       "    <tr>\n",
       "      <td>3</td>\n",
       "      <td>XGBOOST:</td>\n",
       "      <td>0.938127</td>\n",
       "    </tr>\n",
       "  </tbody>\n",
       "</table>\n",
       "</div>"
      ],
      "text/plain": [
       "                Model Name     score\n",
       "0  DecisionTreeClassifier:  0.901338\n",
       "1  RandomForestClassifier:  0.943144\n",
       "2    KNeighborsClassifier:  0.702341\n",
       "3                 XGBOOST:  0.938127"
      ]
     },
     "execution_count": 38,
     "metadata": {},
     "output_type": "execute_result"
    }
   ],
   "source": [
    "model_prediction"
   ]
  },
  {
   "cell_type": "code",
   "execution_count": 39,
   "metadata": {},
   "outputs": [
    {
     "name": "stdout",
     "output_type": "stream",
     "text": [
      "DecisionTreeClassifier: 0.9296197327852005\n",
      "RandomForestClassifier: 0.9447173689619733\n",
      "KNeighborsClassifier: 0.7006680369989723\n",
      "XGBOOST: 0.9397225077081192\n"
     ]
    }
   ],
   "source": [
    "results = []\n",
    "names = []\n",
    "scoring = 'accuracy'\n",
    "for name,model in models:\n",
    "    kfold = model_selection.KFold(n_splits = 10,shuffle = True)\n",
    "    cv_results = model_selection.cross_val_score(model,x_train,y_train,cv = kfold,scoring = scoring)\n",
    "    results.append(cv_results)\n",
    "    names.append(name)\n",
    "    print(name, cv_results.mean())"
   ]
  },
  {
   "cell_type": "code",
   "execution_count": 40,
   "metadata": {},
   "outputs": [],
   "source": [
    "from sklearn.model_selection import RandomizedSearchCV\n",
    "from scipy.stats import randint as sp_randint\n",
    "params = {'n_estimators':sp_randint(50,200),\n",
    "         'max_features':sp_randint(1,24),\n",
    "         'max_depth':sp_randint(2,10),\n",
    "          'min_samples_split':sp_randint(2,20),\n",
    "          'min_samples_leaf':sp_randint(1,20),\n",
    "         'criterion':['gini','entropy']}"
   ]
  },
  {
   "cell_type": "code",
   "execution_count": 41,
   "metadata": {},
   "outputs": [
    {
     "data": {
      "text/plain": [
       "RandomizedSearchCV(cv=3, error_score=nan,\n",
       "                   estimator=RandomForestClassifier(bootstrap=True,\n",
       "                                                    ccp_alpha=0.0,\n",
       "                                                    class_weight=None,\n",
       "                                                    criterion='gini',\n",
       "                                                    max_depth=None,\n",
       "                                                    max_features='auto',\n",
       "                                                    max_leaf_nodes=None,\n",
       "                                                    max_samples=None,\n",
       "                                                    min_impurity_decrease=0.0,\n",
       "                                                    min_impurity_split=None,\n",
       "                                                    min_samples_leaf=1,\n",
       "                                                    min_samples_split=2,\n",
       "                                                    min_weight_fraction_leaf=0.0,\n",
       "                                                    n_estimators=100,\n",
       "                                                    n_jobs...\n",
       "                                        'min_samples_leaf': <scipy.stats._distn_infrastructure.rv_frozen object at 0x000002659944F3C8>,\n",
       "                                        'min_samples_split': <scipy.stats._distn_infrastructure.rv_frozen object at 0x000002659943ED08>,\n",
       "                                        'n_estimators': <scipy.stats._distn_infrastructure.rv_frozen object at 0x00000265993FBB08>},\n",
       "                   pre_dispatch='2*n_jobs', random_state=3, refit=True,\n",
       "                   return_train_score=True, scoring='roc_auc', verbose=0)"
      ]
     },
     "execution_count": 41,
     "metadata": {},
     "output_type": "execute_result"
    }
   ],
   "source": [
    "rfc = RandomForestClassifier(random_state=3)\n",
    "rsearch = RandomizedSearchCV(rfc,param_distributions = params,n_jobs = -1,cv = 3,n_iter = 200,scoring = 'roc_auc',random_state =3,return_train_score = True)\n",
    "rsearch.fit(X,y)"
   ]
  },
  {
   "cell_type": "code",
   "execution_count": 42,
   "metadata": {},
   "outputs": [
    {
     "data": {
      "text/plain": [
       "{'criterion': 'gini',\n",
       " 'max_depth': 4,\n",
       " 'max_features': 12,\n",
       " 'min_samples_leaf': 14,\n",
       " 'min_samples_split': 5,\n",
       " 'n_estimators': 97}"
      ]
     },
     "execution_count": 42,
     "metadata": {},
     "output_type": "execute_result"
    }
   ],
   "source": [
    "rsearch.best_params_"
   ]
  },
  {
   "cell_type": "code",
   "execution_count": 43,
   "metadata": {},
   "outputs": [
    {
     "name": "stdout",
     "output_type": "stream",
     "text": [
      "Confusion Matrix - Train: \n",
      " [[991  23]\n",
      " [ 46 333]]\n",
      "\n",
      "\n",
      "Overall Accuracy - Train:  0.9504666188083274\n",
      "AUC - Train:  0.9897425489063404\n",
      "\n",
      "\n",
      "Confusion Matrix - Test: \n",
      " [[428  10]\n",
      " [ 17 143]]\n",
      "\n",
      "\n",
      "Overall Accuracy - Test:  0.9548494983277592\n",
      "AUC - Test:  0.9912671232876712\n"
     ]
    }
   ],
   "source": [
    "from sklearn.metrics import confusion_matrix,accuracy_score,roc_auc_score,roc_curve\n",
    "rfc= RandomForestClassifier(**rsearch.best_params_)\n",
    "rfc.fit(X,y)\n",
    "y_train_pred = rfc.predict(x_train)\n",
    "y_train_prob = rfc.predict_proba(x_train)[:,1]\n",
    "\n",
    "print('Confusion Matrix - Train: \\n', confusion_matrix(y_train, y_train_pred))\n",
    "print('\\n')\n",
    "print('Overall Accuracy - Train: ', accuracy_score(y_train, y_train_pred))\n",
    "print('AUC - Train: ', roc_auc_score(y_train, y_train_prob))\n",
    "\n",
    "y_test_pred = rfc.predict(x_test)\n",
    "y_test_prob = rfc.predict_proba(x_test)[:,1]\n",
    "\n",
    "print('\\n')\n",
    "print('Confusion Matrix - Test: \\n', confusion_matrix(y_test, y_test_pred))\n",
    "print('\\n')\n",
    "print('Overall Accuracy - Test: ', accuracy_score(y_test, y_test_pred))\n",
    "print('AUC - Test: ', roc_auc_score(y_test, y_test_prob))"
   ]
  },
  {
   "cell_type": "code",
   "execution_count": 44,
   "metadata": {},
   "outputs": [
    {
     "data": {
      "image/png": "[encoded data removed]",
      "text/plain": [
       "<Figure size 432x288 with 2 Axes>"
      ]
     },
     "metadata": {
      "needs_background": "light"
     },
     "output_type": "display_data"
    }
   ],
   "source": [
    "fpr,tpr,th=roc_curve(y_test,y_test_prob)\n",
    "fig,ax=plt.subplots()\n",
    "plt.plot(fpr,tpr)\n",
    "plt.plot(fpr,fpr)\n",
    "ax1=ax.twinx()"
   ]
  },
  {
   "cell_type": "code",
   "execution_count": 48,
   "metadata": {},
   "outputs": [
    {
     "name": "stdout",
     "output_type": "stream",
     "text": [
      "2 selected features\n"
     ]
    }
   ],
   "source": [
    "from sklearn.feature_selection import SelectFromModel\n",
    "\n",
    "embeded_rf_selector = SelectFromModel(RandomForestClassifier(**rsearch.best_params_))\n",
    "embeded_rf_selector.fit(X, y)\n",
    "\n",
    "embeded_rf_support = embeded_rf_selector.get_support()\n",
    "embeded_rf_feature = X.loc[:,embeded_rf_support].columns.tolist()\n",
    "print(str(len(embeded_rf_feature)), 'selected features')\n"
   ]
  },
  {
   "cell_type": "code",
   "execution_count": 49,
   "metadata": {},
   "outputs": [
    {
     "name": "stdout",
     "output_type": "stream",
     "text": [
      "['OVER TOTAL ELECTORS \\nIN CONSTITUENCY', 'OVER TOTAL VOTES POLLED \\nIN CONSTITUENCY']\n"
     ]
    }
   ],
   "source": [
    "print(embeded_rf_feature)"
   ]
  },
  {
   "cell_type": "code",
   "execution_count": null,
   "metadata": {},
   "outputs": [],
   "source": []
  }
 ],
 "metadata": {
  "kernelspec": {
   "display_name": "Python 3",
   "language": "python",
   "name": "python3"
  },
  "language_info": {
   "codemirror_mode": {
    "name": "ipython",
    "version": 3
   },
   "file_extension": ".py",
   "mimetype": "text/x-python",
   "name": "python",
   "nbconvert_exporter": "python",
   "pygments_lexer": "ipython3",
   "version": "3.7.4"
  }
 },
 "nbformat": 4,
 "nbformat_minor": 2
}
